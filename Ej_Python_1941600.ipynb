{
 "cells": [
  {
   "cell_type": "markdown",
   "metadata": {},
   "source": [
    "## Ejercicio 1\n",
    "Realiza una variable con tu matricula y realiza una secuencia de \n",
    "imprimir con tu nombre y tu matricula concatenados."
   ]
  },
  {
   "cell_type": "code",
   "execution_count": 2,
   "metadata": {},
   "outputs": [
    {
     "name": "stdout",
     "output_type": "stream",
     "text": [
      "Nombre: Oscar Cardenas, matricula: 1941600\n"
     ]
    }
   ],
   "source": [
    "m=1941600\n",
    "print(\"Nombre: Oscar Cardenas, matricula:\",m)"
   ]
  },
  {
   "cell_type": "markdown",
   "metadata": {},
   "source": [
    "## Ejercicio 2\n",
    "Pidiendo el input del usuario pide dos números y crea una pequeña calculadora con los operadores básicos de suma, resta, multiplicación, división, y exponente."
   ]
  },
  {
   "cell_type": "code",
   "execution_count": 1,
   "metadata": {
    "scrolled": true
   },
   "outputs": [
    {
     "name": "stdout",
     "output_type": "stream",
     "text": [
      "Introduce el primer número: 23\n",
      "Introduce el número según la operacion a efectuar: \n",
      "1. Suma\n",
      "2. Resta\n",
      "3. Multiplicación\n",
      "4. División\n",
      "1\n",
      "Introduce el segundo número: 24\n",
      "El resultado de la operación es:  47.0\n"
     ]
    }
   ],
   "source": [
    "a=float(input(\"Introduce el primer número: \"))\n",
    "op=int(input(\"Introduce el número según la operacion a efectuar: \\n1. Suma\\n2. Resta\\n3. Multiplicación\\n4. División\\n\"))\n",
    "b=float(input(\"Introduce el segundo número: \"))\n",
    "if op==1:\n",
    "    r=a+b\n",
    "elif op==2:\n",
    "    r=a-b\n",
    "elif op==3:\n",
    "    r=a*b\n",
    "elif op==4:\n",
    "    r=a/b\n",
    "else:\n",
    "    print(\"Operación incorrecta\")\n",
    "print(\"El resultado de la operación es: \",r)"
   ]
  },
  {
   "cell_type": "markdown",
   "metadata": {},
   "source": [
    "## Ejercicio 3\n",
    "Con loop while o for, realiza una lista de 10 numeros multiplos de 3, \n",
    "y después realiza una función de loop que sume todos los números dentro del arreglo."
   ]
  },
  {
   "cell_type": "code",
   "execution_count": 8,
   "metadata": {},
   "outputs": [
    {
     "name": "stdout",
     "output_type": "stream",
     "text": [
      "Los primeros 10 multiplos de 3 son:\n",
      "3\n",
      "6\n",
      "9\n",
      "12\n",
      "15\n",
      "18\n",
      "21\n",
      "24\n",
      "27\n",
      "30\n",
      "Su suma es: 165\n"
     ]
    }
   ],
   "source": [
    "suma=0\n",
    "print(\"Los primeros 10 multiplos de 3 son:\")\n",
    "for i in range(1,31):\n",
    "    if i%3==0:\n",
    "        suma+=i\n",
    "        print(i)\n",
    "    i+=1\n",
    "print(\"Su suma es:\",suma)"
   ]
  },
  {
   "cell_type": "markdown",
   "metadata": {},
   "source": [
    "## Ejercicio 4\n",
    "Con una función de if else, revisar si un número es par o es impar.\n",
    "Con una función de if else, revisar si un número es primo o no."
   ]
  },
  {
   "cell_type": "code",
   "execution_count": 20,
   "metadata": {},
   "outputs": [
    {
     "name": "stdout",
     "output_type": "stream",
     "text": [
      "Introduce un número entero para ver si es par o impar y primo: 876\n",
      "876 es número par\n",
      "876 no es primo\n"
     ]
    }
   ],
   "source": [
    "num=int(input(\"Introduce un número entero para ver si es par o impar y primo: \"))\n",
    "if num%2==0:\n",
    "    print(num,\"es número par\")\n",
    "else:\n",
    "    print(num, \"es impar\")\n",
    "for i in range (2, num):\n",
    "    if num%i==0:\n",
    "        print(num, \"no es primo\")\n",
    "    break\n",
    "else:\n",
    "    print(num, \"es un número primo\")\n"
   ]
  },
  {
   "cell_type": "markdown",
   "metadata": {},
   "source": [
    "## Ejercicio 5\n",
    "Utilizando diferentes clases en python, crea una calculadora con los operadores\n",
    "básicos de suma, resta, multiplicación, división, y exponente."
   ]
  },
  {
   "cell_type": "code",
   "execution_count": 1,
   "metadata": {},
   "outputs": [
    {
     "name": "stdout",
     "output_type": "stream",
     "text": [
      "Ingresa el primer número: 34\n",
      "Ingresa el segundo número: 3\n",
      "1. Sumar\n",
      "2. Restar\n",
      "3. Multiplicar\n",
      "4. Dividir\n",
      "Escoja el número de la operación que desea: 4\n",
      "Resultado:  11.333333333333334\n"
     ]
    }
   ],
   "source": [
    "class calcu():\n",
    "    def __init__(self,a,b):\n",
    "        self.a=a\n",
    "        self.b=b\n",
    "    def suma(self):\n",
    "        return self.a+self.b\n",
    "    def mult(self):\n",
    "        return self.a*self.b\n",
    "    def div(self):\n",
    "        return self.a/self.b\n",
    "    def resta(self):\n",
    "        return self.a-self.b\n",
    "a=float(input(\"Ingresa el primer número: \"))\n",
    "b=float(input(\"Ingresa el segundo número: \"))\n",
    "obj=calcu(a,b)\n",
    "op=1\n",
    "while op!=0:\n",
    "    print(\"1. Sumar\")\n",
    "    print(\"2. Restar\")\n",
    "    print(\"3. Multiplicar\")\n",
    "    print(\"4. Dividir\")\n",
    "    op=int(input(\"Escoja el número de la operación que desea: \"))\n",
    "    if op==1:\n",
    "        print(\"Resultado: \",obj.suma())\n",
    "    elif op==2:\n",
    "        print(\"Resultado: \",obj.resta())\n",
    "    elif op==3:\n",
    "        print(\"Resultado: \",obj.mult())\n",
    "    elif op==4:\n",
    "        print(\"Resultado: \",obj.div())\n",
    "    else:\n",
    "        print(\"Operación incorrecta\")\n",
    "    break"
   ]
  },
  {
   "cell_type": "markdown",
   "metadata": {},
   "source": [
    "## Tuplas\n",
    "Crear una variable flotante, integer, boleana y compleja e imprimir el tipo de variable que es."
   ]
  },
  {
   "cell_type": "code",
   "execution_count": 1,
   "metadata": {},
   "outputs": [
    {
     "name": "stdout",
     "output_type": "stream",
     "text": [
      "tipo de variable de f: <class 'float'>\n",
      "tipo de variable de i: <class 'int'>\n",
      "tipo de variable de b: <class 'bool'>\n",
      "tipo de variable de c: <class 'complex'>\n"
     ]
    }
   ],
   "source": [
    "f=23.345\n",
    "i=6\n",
    "b=True\n",
    "c=5+6j\n",
    "print(\"tipo de variable de f:\",type(f))\n",
    "print(\"tipo de variable de i:\",type(i))\n",
    "print(\"tipo de variable de b:\",type(b))\n",
    "print(\"tipo de variable de c:\",type(c))"
   ]
  },
  {
   "cell_type": "markdown",
   "metadata": {},
   "source": [
    "Crear una tupla con valores enteros imprimir el primer y ultimo valor."
   ]
  },
  {
   "cell_type": "code",
   "execution_count": 2,
   "metadata": {},
   "outputs": [
    {
     "name": "stdout",
     "output_type": "stream",
     "text": [
      "3\n",
      "7\n"
     ]
    }
   ],
   "source": [
    "tup=(3,4,5,6,7)\n",
    "print(tup[0])\n",
    "print(tup[4])"
   ]
  },
  {
   "cell_type": "markdown",
   "metadata": {},
   "source": [
    "Añadir 3 valores de string a la tupla."
   ]
  },
  {
   "cell_type": "code",
   "execution_count": 4,
   "metadata": {},
   "outputs": [
    {
     "name": "stdout",
     "output_type": "stream",
     "text": [
      "[3, 4, 5, 6, 7, 'Arriba', 'los', 'tigres']\n",
      "(3, 4, 5, 6, 7, 'Arriba', 'los', 'tigres')\n"
     ]
    }
   ],
   "source": [
    "lista=list(tup)\n",
    "lista.append(\"Arriba\")\n",
    "lista.append(\"los\")\n",
    "lista.append(\"tigres\")\n",
    "print(lista)\n",
    "tupla=tuple(lista) #asigne valores a la tupla a partir de lista\n",
    "print(tupla)"
   ]
  },
  {
   "cell_type": "markdown",
   "metadata": {},
   "source": [
    "Verificar si una variable existe dentro de la tupla."
   ]
  },
  {
   "cell_type": "code",
   "execution_count": 9,
   "metadata": {},
   "outputs": [
    {
     "data": {
      "text/plain": [
       "True"
      ]
     },
     "execution_count": 9,
     "metadata": {},
     "output_type": "execute_result"
    }
   ],
   "source": [
    "3 in tupla"
   ]
  },
  {
   "cell_type": "markdown",
   "metadata": {},
   "source": [
    "## Listas\n",
    "Crear una lista con 40 elementos aleatorios enteros."
   ]
  },
  {
   "cell_type": "code",
   "execution_count": 23,
   "metadata": {},
   "outputs": [
    {
     "name": "stdout",
     "output_type": "stream",
     "text": [
      "[803, 100, 463, 743, 145, 592, 178, 709, 671, 487, 761, 730, 280, 21, 458, 857, 542, 433, 308, 633, 323, 717, 314, 215, 915, 119, 18, 102, 742, 295, 426, 453, 116, 128, 401, 891, 568, 410, 339, 776]\n"
     ]
    }
   ],
   "source": [
    "import random\n",
    "la=[random.randint(0,999) for i in range(40)]\n",
    "print(la)"
   ]
  },
  {
   "cell_type": "markdown",
   "metadata": {},
   "source": [
    "Con una funcion (def) crear dos listas nuevas a partir de la lista creada por numeros aleatorios, en la cual en una esten los elementos pares, y en la otra los elementos impares."
   ]
  },
  {
   "cell_type": "code",
   "execution_count": 24,
   "metadata": {},
   "outputs": [
    {
     "name": "stdout",
     "output_type": "stream",
     "text": [
      "Lista par: [100, 592, 178, 730, 280, 458, 542, 308, 314, 18, 102, 742, 426, 116, 128, 568, 410, 776]\n",
      "Lista impar: [803, 463, 743, 145, 709, 671, 487, 761, 21, 857, 433, 633, 323, 717, 215, 915, 119, 295, 453, 401, 891, 339]\n"
     ]
    }
   ],
   "source": [
    "lpar=[]\n",
    "limp=[]\n",
    "def listas():\n",
    "    for i in range(40):\n",
    "        n=la[i]%2\n",
    "        if n==0:\n",
    "            lpar.append(la[i])\n",
    "        else:\n",
    "            limp.append(la[i])\n",
    "    print(\"Lista par:\",lpar)\n",
    "    print(\"Lista impar:\",limp)\n",
    "listas()"
   ]
  },
  {
   "cell_type": "markdown",
   "metadata": {},
   "source": [
    "Crear dos variables con la longitud de ambas listas nuevas e imprimir las variables."
   ]
  },
  {
   "cell_type": "code",
   "execution_count": 25,
   "metadata": {},
   "outputs": [
    {
     "name": "stdout",
     "output_type": "stream",
     "text": [
      "18\n",
      "22\n"
     ]
    }
   ],
   "source": [
    "a=len(lpar)\n",
    "b=len(limp)\n",
    "print(a)\n",
    "print(b)"
   ]
  },
  {
   "cell_type": "markdown",
   "metadata": {},
   "source": [
    "Ordenar los elementos de la lista par de mayor a menor, y los de la lista impar de menor a mayor."
   ]
  },
  {
   "cell_type": "code",
   "execution_count": 26,
   "metadata": {},
   "outputs": [
    {
     "name": "stdout",
     "output_type": "stream",
     "text": [
      "[776, 742, 730, 592, 568, 542, 458, 426, 410, 314, 308, 280, 178, 128, 116, 102, 100, 18]\n",
      "[21, 119, 145, 215, 295, 323, 339, 401, 433, 453, 463, 487, 633, 671, 709, 717, 743, 761, 803, 857, 891, 915]\n"
     ]
    }
   ],
   "source": [
    "lpar.sort(reverse=True)\n",
    "print(lpar)\n",
    "limp.sort()\n",
    "print(limp)"
   ]
  },
  {
   "cell_type": "markdown",
   "metadata": {},
   "source": [
    "Utilizar al menos cuatro de las funciones de listas en python en la lista original de 40 elementos."
   ]
  },
  {
   "cell_type": "code",
   "execution_count": 27,
   "metadata": {},
   "outputs": [
    {
     "name": "stdout",
     "output_type": "stream",
     "text": [
      "Longitud de la lista: 41 \n",
      "Dato mayor: 915 \n",
      "Dato menor: 18 \n",
      "Suma de los datos:  18737\n",
      "Numero de veces que aparece 1 en la lista:  0\n"
     ]
    }
   ],
   "source": [
    "la.insert(5,555)\n",
    "c=la.count(1)\n",
    "print(\"Longitud de la lista:\",len(la),\"\\nDato mayor:\",max(la),\"\\nDato menor:\",min(la), \"\\nSuma de los datos: \",sum(la))\n",
    "print(\"Numero de veces que aparece 1 en la lista: \",c)"
   ]
  },
  {
   "cell_type": "markdown",
   "metadata": {},
   "source": [
    "## Diccionarios\n",
    "Crear un diccionario de 6 personas que conozcas con su primer nombre y su edad."
   ]
  },
  {
   "cell_type": "code",
   "execution_count": 49,
   "metadata": {},
   "outputs": [
    {
     "name": "stdout",
     "output_type": "stream",
     "text": [
      "{'Nombres': ['Emiliano', 'Paula', 'Sebastian', 'Melissa', 'Raul', 'Jimena'], 'Edades': [19, 21, 18, 20, 21, 18]}\n"
     ]
    }
   ],
   "source": [
    "dic={\"Nombres\":[\"Emiliano\",\"Paula\", \"Sebastian\",\"Melissa\",\"Raul\", \"Jimena\"],\"Edades\":[19,21,18,20,21,18]}\n",
    "print(dic)"
   ]
  },
  {
   "cell_type": "markdown",
   "metadata": {},
   "source": [
    "Crear una lista con los valores de la edad y reacomodar la lista de menor a mayor valor."
   ]
  },
  {
   "cell_type": "code",
   "execution_count": 50,
   "metadata": {},
   "outputs": [
    {
     "name": "stdout",
     "output_type": "stream",
     "text": [
      "[19, 21, 18, 20, 21, 18]\n"
     ]
    }
   ],
   "source": [
    "edades=list(dic.get(\"Edades\"))\n",
    "print(edades)"
   ]
  },
  {
   "cell_type": "markdown",
   "metadata": {},
   "source": [
    "Usando el diccionario y un loop, imprimir solo los nombres."
   ]
  },
  {
   "cell_type": "code",
   "execution_count": 51,
   "metadata": {},
   "outputs": [
    {
     "name": "stdout",
     "output_type": "stream",
     "text": [
      "Emiliano\n",
      "Paula\n",
      "Sebastian\n",
      "Melissa\n",
      "Raul\n",
      "Jimena\n"
     ]
    }
   ],
   "source": [
    "v=len(edades)\n",
    "i=0\n",
    "while i<v:\n",
    "    nom=str(dic[\"Nombres\"][i])\n",
    "    print(nom)\n",
    "    i+=1"
   ]
  },
  {
   "cell_type": "markdown",
   "metadata": {},
   "source": [
    "Añadir dos personas nuevas a tu diccionario, incluyendo edad."
   ]
  },
  {
   "cell_type": "code",
   "execution_count": 52,
   "metadata": {},
   "outputs": [
    {
     "name": "stdout",
     "output_type": "stream",
     "text": [
      "{'Nombres': ['Emiliano', 'Paula', 'Sebastian', 'Melissa', 'Raul', 'Jimena', 'Santiago', 'Tatiana'], 'Edades': [19, 21, 18, 20, 21, 18, '13', '21']}\n"
     ]
    }
   ],
   "source": [
    "dic['Nombres'].append(\"Santiago\")\n",
    "dic['Edades'].append(\"13\")\n",
    "dic['Nombres'].append(\"Tatiana\")\n",
    "dic['Edades'].append(\"21\")\n",
    "print(dic)"
   ]
  },
  {
   "cell_type": "markdown",
   "metadata": {},
   "source": [
    "## Sets\n",
    "Crea un set con 100 numeros aleatorios enteros del 1 al 25."
   ]
  },
  {
   "cell_type": "code",
   "execution_count": 10,
   "metadata": {},
   "outputs": [
    {
     "name": "stdout",
     "output_type": "stream",
     "text": [
      "{1, 3, 4, 5, 6, 7, 8, 9, 10, 11, 12, 13, 14, 15, 16, 17, 18, 19, 20, 21, 22, 23, 24, 25}\n"
     ]
    }
   ],
   "source": [
    "import random\n",
    "s=set()\n",
    "i=0\n",
    "while i < 100:\n",
    "    s.add((random.randint(1,25)))\n",
    "    i+=1\n",
    "print(s) #el set no puede tener 100 enteros del 1-25 ya que no contiene valores duplicados, por eso la longitud puede ser máximo 25"
   ]
  },
  {
   "cell_type": "markdown",
   "metadata": {},
   "source": [
    "Comprueba la longitud de tu set."
   ]
  },
  {
   "cell_type": "code",
   "execution_count": 6,
   "metadata": {},
   "outputs": [
    {
     "name": "stdout",
     "output_type": "stream",
     "text": [
      "25\n"
     ]
    }
   ],
   "source": [
    "print(len(s))"
   ]
  },
  {
   "cell_type": "markdown",
   "metadata": {},
   "source": [
    "Crea una lista de 5 numeros aleatorios del 1 al 10 y comprueba si cada valor aparece en el set inicial."
   ]
  },
  {
   "cell_type": "code",
   "execution_count": 17,
   "metadata": {},
   "outputs": [
    {
     "name": "stdout",
     "output_type": "stream",
     "text": [
      "El numero 9 aparece en el set 's'.\n",
      "El numero 7 aparece en el set 's'.\n",
      "El numero 6 aparece en el set 's'.\n",
      "El numero 7 aparece en el set 's'.\n",
      "El numero 5 aparece en el set 's'.\n"
     ]
    }
   ],
   "source": [
    "lista = []\n",
    "for i in range(5):\n",
    "    lista.append(random.randint(1,10))\n",
    "    if lista[i] in s:\n",
    "        print(\"El numero\", lista[i],\"aparece en el set 's'.\")\n",
    "    else:\n",
    "        print(\"El numero\", lista[i],\"No aparece en el set 's'.\")"
   ]
  }
 ],
 "metadata": {
  "kernelspec": {
   "display_name": "Python 3",
   "language": "python",
   "name": "python3"
  },
  "language_info": {
   "codemirror_mode": {
    "name": "ipython",
    "version": 3
   },
   "file_extension": ".py",
   "mimetype": "text/x-python",
   "name": "python",
   "nbconvert_exporter": "python",
   "pygments_lexer": "ipython3",
   "version": "3.8.5"
  }
 },
 "nbformat": 4,
 "nbformat_minor": 4
}
